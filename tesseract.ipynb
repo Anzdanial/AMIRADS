{
 "cells": [
  {
   "cell_type": "raw",
   "id": "41fae9dc-b55b-4630-a154-79e4ebf76e46",
   "metadata": {},
   "source": [
    "Page segmentation modes:\n",
    "  0    Orientation and script detection (OSD) only.\n",
    "  1    Automatic page segmentation with OSD.\n",
    "  2    Automatic page segmentation, but no OSD, or OCR. (not implemented)\n",
    "  3    Fully automatic page segmentation, but no OSD. (Default)\n",
    "  4    Assume a single column of text of variable sizes.\n",
    "  5    Assume a single uniform block of vertically aligned text.\n",
    "  6    Assume a single uniform block of text.\n",
    "  7    Treat the image as a single text line.\n",
    "  8    Treat the image as a single word.\n",
    "  9    Treat the image as a single word in a circle.\n",
    " 10    Treat the image as a single character.\n",
    " 11    Sparse text. Find as much text as possible in no particular order.\n",
    " 12    Sparse text with OSD.\n",
    " 13    Raw line. Treat the image as a single text line,\n",
    "       bypassing hacks that are Tesseract-specific.\n",
    "\n",
    "OCR Engine modes:\n",
    "  0    Legacy engine only.\n",
    "  1    Neural nets LSTM engine only.\n",
    "  2    Legacy + LSTM engines.\n",
    "  3    Default, based on what is available."
   ]
  },
  {
   "cell_type": "code",
   "execution_count": 1,
   "id": "09e38492-889e-47e4-9799-6956db86566b",
   "metadata": {},
   "outputs": [
    {
     "name": "stdout",
     "output_type": "stream",
     "text": [
      "Tax INVOICE\n",
      "\n",
      "Invoite # SA- 09'- 217,27\n",
      "Date? 9.08. 902?\n",
      "\n",
      "Bill To\n",
      "\n",
      "ame Fogo labia? LLP\n",
      "cin yaoi mata\n",
      "\n",
      "GET AAA BCU G603R IZ 2\n",
      "\n",
      "PyYa Door BALE\n",
      "\n",
      "+ Bleck Mode\n",
      "\n",
      "s sa (Oat Crofth\n",
      "\n",
      "For\n",
      "\n",
      "Qvee\n",
      "sooo\n",
      "\n",
      "Total Cost\n",
      "\n",
      "Boro\n",
      "We eo\n",
      "\n",
      "mie\n",
      "\n"
     ]
    }
   ],
   "source": [
    "import pytesseract\n",
    "import PIL.Image\n",
    "import cv2\n",
    "\n",
    "myconfig = r\"--psm 3 --oem 3\"\n",
    "text = pytesseract.image_to_string(PIL.Image.open(\"invoice.jpg\"), config=myconfig)\n",
    "print(text)"
   ]
  },
  {
   "cell_type": "code",
   "execution_count": 3,
   "id": "a062c186-0ff1-4616-b675-c10534730d15",
   "metadata": {},
   "outputs": [
    {
     "data": {
      "text/plain": [
       "-1"
      ]
     },
     "execution_count": 3,
     "metadata": {},
     "output_type": "execute_result"
    }
   ],
   "source": [
    "img = cv2.imread(\"invoice.jpg\")\n",
    "height, width, _ = img.shape\n",
    "boxes = pytesseract.image_to_boxes(img, config=myconfig)\n",
    "\n",
    "for box in boxes.splitlines():\n",
    "    box = box.split(\" \")\n",
    "    img = cv2.rectangle(img, (int(box[1]), height - int(box[2])), (int(box[3]), height - int(box[4])), (0, 255, 0), 2)\n",
    "\n",
    "cv2.imshow(\"img\", img)\n",
    "cv2.waitKey(0)"
   ]
  },
  {
   "cell_type": "code",
   "execution_count": null,
   "id": "44bd07f3-efba-4f05-b3ff-0507be53a80c",
   "metadata": {},
   "outputs": [],
   "source": [
    "from pytesseract import Output\n",
    "\n",
    "img = cv2.imread(\"invoice.jpg\")\n",
    "height, width, _ = img.shape\n",
    "data = pytesseract.image_to_data(img, config = myconfig, output_type = Output.DICT)\n",
    "\n",
    "amount_boxes = len(data['text'])\n",
    "for i in range(amount_boxes):\n",
    "    if float(data['conf'][i]) > 70:\n",
    "        (x, y, width, height) = (data['left'][i], data['top'][i], data['width'][i], data['height'][i])\n",
    "        img = cv2.rectangle(img, (x, y), (x+width, y+height), (0,255,0), 2)\n",
    "        img = cv2.putText(img, data['text'][i], (x,y+height+20), cv2.FONT_HERSHEY_SIMPLEX, 0.7, (0,255,0) ,2,cv2.LINE_AA)\n",
    "                                 \n",
    "\n",
    "cv2.imshow(\"img\", img)\n",
    "cv2.waitKey(0)"
   ]
  },
  {
   "cell_type": "code",
   "execution_count": null,
   "id": "15ff5bce-4100-41bb-a7be-3abac650e211",
   "metadata": {},
   "outputs": [],
   "source": []
  }
 ],
 "metadata": {
  "kernelspec": {
   "display_name": "Python 3 (ipykernel)",
   "language": "python",
   "name": "python3"
  },
  "language_info": {
   "codemirror_mode": {
    "name": "ipython",
    "version": 3
   },
   "file_extension": ".py",
   "mimetype": "text/x-python",
   "name": "python",
   "nbconvert_exporter": "python",
   "pygments_lexer": "ipython3",
   "version": "3.10.10"
  }
 },
 "nbformat": 4,
 "nbformat_minor": 5
}
